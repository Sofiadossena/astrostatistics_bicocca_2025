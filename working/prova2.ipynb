{
 "cells": [
  {
   "cell_type": "code",
   "execution_count": null,
   "metadata": {},
   "outputs": [],
   "source": [
    "#!/usr/bin/env python3\n",
    "# -*- coding: utf-8 -*-\n",
    "\"\"\"\n",
    "Created on Mon Mar  3 19:36:23 2025\n",
    "\n",
    "@author: sofiadossena\n",
    "\"\"\"\n",
    "\n",
    "import numpy as np\n",
    "import matplotlib.pyplot as plt\n",
    "from astropy.io import fits\n",
    "\n",
    "\n",
    "print (\"Hello world\")\n",
    "print(\"proviamo a fare qualche modifica \")\n",
    "print(\"seconda prova usando visual studio code\")\n",
    "\n",
    "#ok quindi l'ordine è add, commit e push"
   ]
  }
 ],
 "metadata": {
  "language_info": {
   "name": "python"
  }
 },
 "nbformat": 4,
 "nbformat_minor": 2
}
